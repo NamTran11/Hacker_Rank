{
 "cells": [
  {
   "cell_type": "code",
   "execution_count": 4,
   "metadata": {},
   "outputs": [
    {
     "name": "stdout",
     "output_type": "stream",
     "text": [
      "+-++++++++ +-++++++++ +-------++ +-++++++++ +-++++++++ +------+++ +-+++-++++ +++++-++++ +++++-++++ ++++++++++\n",
      "AGRA;NORWAY;ENGLAND;GWALIOR\n"
     ]
    }
   ],
   "source": [
    "crossword = []\n",
    "\n",
    "# for fuck_ in range(10):\n",
    "#     crossword_item = input()\n",
    "#     crossword.append(crossword_item)\n",
    "str_ = input()\n",
    "words = input()"
   ]
  },
  {
   "cell_type": "code",
   "execution_count": 5,
   "metadata": {},
   "outputs": [],
   "source": [
    "arr_ = str_.split(' ')"
   ]
  },
  {
   "cell_type": "code",
   "execution_count": 9,
   "metadata": {},
   "outputs": [],
   "source": [
    "for temp in range(10):\n",
    "    crossword.append(arr_[temp])"
   ]
  },
  {
   "cell_type": "code",
   "execution_count": 43,
   "metadata": {},
   "outputs": [],
   "source": [
    "ret = []\n",
    "def convert_to_array(arr_):\n",
    "    f=[]\n",
    "    for i in range(10):\n",
    "        arr_temp = []\n",
    "        for j in range(10):\n",
    "            if arr_[i][j]==\"+\":\n",
    "                arr_temp.append(0)\n",
    "            else:arr_temp.append(1)\n",
    "        f.append(arr_temp)\n",
    "    return f"
   ]
  },
  {
   "cell_type": "code",
   "execution_count": 44,
   "metadata": {},
   "outputs": [],
   "source": [
    "f = convert_to_array(arr_)"
   ]
  },
  {
   "cell_type": "code",
   "execution_count": 48,
   "metadata": {},
   "outputs": [
    {
     "data": {
      "text/plain": [
       "[[0, 1, 0, 0, 0, 0, 0, 0, 0, 0],\n",
       " [0, 1, 0, 0, 0, 0, 0, 0, 0, 0],\n",
       " [0, 1, 1, 1, 1, 1, 1, 1, 0, 0],\n",
       " [0, 1, 0, 0, 0, 0, 0, 0, 0, 0],\n",
       " [0, 1, 0, 0, 0, 0, 0, 0, 0, 0],\n",
       " [0, 1, 1, 1, 1, 1, 1, 0, 0, 0],\n",
       " [0, 1, 0, 0, 0, 1, 0, 0, 0, 0],\n",
       " [0, 0, 0, 0, 0, 1, 0, 0, 0, 0],\n",
       " [0, 0, 0, 0, 0, 1, 0, 0, 0, 0],\n",
       " [0, 0, 0, 0, 0, 0, 0, 0, 0, 0]]"
      ]
     },
     "execution_count": 48,
     "metadata": {},
     "output_type": "execute_result"
    }
   ],
   "source": [
    "f"
   ]
  },
  {
   "cell_type": "code",
   "execution_count": 67,
   "metadata": {},
   "outputs": [],
   "source": [
    "def tinhchieudai_hang(ar_temp):\n",
    "    len_=0\n",
    "    check = 0\n",
    "    for i in range(10):\n",
    "        if ar_temp[i]==1:\n",
    "            len_= len_+1\n",
    "            if(check==1):\n",
    "                if(ar_temp[i-1]==0): return 0\n",
    "            check = 1;\n",
    "    return len_\n"
   ]
  },
  {
   "cell_type": "code",
   "execution_count": 68,
   "metadata": {},
   "outputs": [
    {
     "data": {
      "text/plain": [
       "0"
      ]
     },
     "execution_count": 68,
     "metadata": {},
     "output_type": "execute_result"
    }
   ],
   "source": [
    "arr_temp = [0, 1, 1, 0, 1, 1, 1, 0, 0, 0]\n",
    "tinhchieudai_hang(arr_temp)\n"
   ]
  },
  {
   "cell_type": "code",
   "execution_count": null,
   "metadata": {},
   "outputs": [],
   "source": [
    "def demsotu(arr_temp):\n",
    "    "
   ]
  }
 ],
 "metadata": {
  "kernelspec": {
   "display_name": "Python 3",
   "language": "python",
   "name": "python3"
  },
  "language_info": {
   "codemirror_mode": {
    "name": "ipython",
    "version": 3
   },
   "file_extension": ".py",
   "mimetype": "text/x-python",
   "name": "python",
   "nbconvert_exporter": "python",
   "pygments_lexer": "ipython3",
   "version": "3.6.6rc1"
  }
 },
 "nbformat": 4,
 "nbformat_minor": 2
}
