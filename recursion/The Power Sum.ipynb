{
 "cells": [
  {
   "cell_type": "markdown",
   "metadata": {},
   "source": [
    "### Source code"
   ]
  },
  {
   "cell_type": "code",
   "execution_count": 35,
   "metadata": {},
   "outputs": [
    {
     "name": "stdout",
     "output_type": "stream",
     "text": [
      "123 3\n",
      "9\n"
     ]
    }
   ],
   "source": [
    "def sumOfDigit(str_):\n",
    "    if str_//10==str_:\n",
    "        return str_\n",
    "    else: return str_%10+sumOfDigit(str_//10)\n",
    "def sumOfString(str_):\n",
    "    k = len(str_)\n",
    "    sum_ = 0\n",
    "    for i in range(0,k):\n",
    "        sum_ += int(str_[i])\n",
    "    return sum_\n",
    "def superDigit(k,n):\n",
    "    result = sumOfString(str(k))*n\n",
    "    while int(result)>9:\n",
    "        result = sumOfString(str(result))\n",
    "    return result\n",
    "nk = input().split()\n",
    "n = nk[0]\n",
    "k = int(nk[1])\n",
    "print(superDigit(k,n))\n",
    "    "
   ]
  },
  {
   "cell_type": "markdown",
   "metadata": {},
   "source": [
    "### The Power Sum\n",
    "sử dụng Back tracking để giải quyết (time out)"
   ]
  },
  {
   "cell_type": "code",
   "execution_count": 29,
   "metadata": {},
   "outputs": [
    {
     "name": "stdout",
     "output_type": "stream",
     "text": [
      "10\n",
      "2\n",
      "1\n"
     ]
    }
   ],
   "source": [
    "count_ = 0\n",
    "arr_temp = []\n",
    "#de quy quay lui de tim cac tong\n",
    "def unique(list1):\n",
    "    unique_list = []\n",
    "    for x in list1:\n",
    "        if x not in unique_list:\n",
    "            unique_list.append(x)\n",
    "    return unique_list\n",
    "    \n",
    "def ThePowerSum(X,N):\n",
    "    global arr_temp\n",
    "    global count_\n",
    "    k = int(X**(1/N))\n",
    "    for i in range(k, 0, -1):\n",
    "        if((len(arr_temp)!=0 and i<arr_temp[-1]) or len(arr_temp)==0): #check enable conditions next step\n",
    "            arr_temp.append(i) # ghi nhan buoc di nay\n",
    "            if(i**N == X): # check stop conditions\n",
    "                if len(unique(arr_temp))==len(arr_temp):# check stop conditions\n",
    "                    count_+=1\n",
    "            else: # if not yet stop\n",
    "                ThePowerSum(X-i**N,N)\n",
    "            arr_temp.remove(i)# unlock current step\n",
    "X_ = input()\n",
    "N_ = input()\n",
    "ThePowerSum(int(X_),int(N_))\n",
    "print(count_)\n",
    "\n",
    "        "
   ]
  },
  {
   "cell_type": "code",
   "execution_count": 58,
   "metadata": {},
   "outputs": [
    {
     "name": "stdout",
     "output_type": "stream",
     "text": [
      "3\n",
      "2\n",
      "1\n"
     ]
    }
   ],
   "source": [
    "import numpy as np\n",
    "for i in np.linspace(3,1,3):\n",
    "    print(int(i))"
   ]
  },
  {
   "cell_type": "code",
   "execution_count": 83,
   "metadata": {},
   "outputs": [
    {
     "data": {
      "text/plain": [
       "1"
      ]
     },
     "execution_count": 83,
     "metadata": {},
     "output_type": "execute_result"
    }
   ],
   "source": [
    "arr = [1,2,3,4,5]\n",
    "arr = np.delete(arr,-1,0)\n",
    "arr = np.append(arr,6,None)\n",
    "arr = [1]\n",
    "arr[-1]\n"
   ]
  },
  {
   "cell_type": "code",
   "execution_count": 2,
   "metadata": {},
   "outputs": [
    {
     "data": {
      "text/plain": [
       "['khkhk', 'lhlhl', 'lhlhl']"
      ]
     },
     "execution_count": 2,
     "metadata": {},
     "output_type": "execute_result"
    }
   ],
   "source": [
    "ss = 'khkhk;lhlhl;lhlhl'\n",
    "arr = ss.split(';')\n",
    "arr"
   ]
  },
  {
   "cell_type": "code",
   "execution_count": 9,
   "metadata": {},
   "outputs": [
    {
     "data": {
      "text/plain": [
       "array([1, 2])"
      ]
     },
     "execution_count": 9,
     "metadata": {},
     "output_type": "execute_result"
    }
   ],
   "source": [
    "arr = np.array([1, 1, 1, 1, 2, 2])\n",
    "np.unique(arr)"
   ]
  },
  {
   "cell_type": "code",
   "execution_count": 22,
   "metadata": {},
   "outputs": [
    {
     "data": {
      "text/plain": [
       "True"
      ]
     },
     "execution_count": 22,
     "metadata": {},
     "output_type": "execute_result"
    }
   ],
   "source": [
    "import numbers\n",
    "isinstance(5,numbers.Integral)"
   ]
  },
  {
   "cell_type": "code",
   "execution_count": 25,
   "metadata": {},
   "outputs": [
    {
     "data": {
      "text/plain": [
       "2.0"
      ]
     },
     "execution_count": 25,
     "metadata": {},
     "output_type": "execute_result"
    }
   ],
   "source": [
    "4**(1/2)"
   ]
  },
  {
   "cell_type": "code",
   "execution_count": 28,
   "metadata": {},
   "outputs": [
    {
     "data": {
      "text/plain": [
       "list"
      ]
     },
     "execution_count": 28,
     "metadata": {},
     "output_type": "execute_result"
    }
   ],
   "source": [
    "a = [1,1,2,2]\n",
    "def unique(list1):\n",
    "    unique_list = []\n",
    "    for x in list1:\n",
    "        if x not in unique_list:\n",
    "            unique_list.append(x)\n",
    "    return unique_list\n",
    "a.remove(a[-1])\n",
    "type(a)"
   ]
  },
  {
   "cell_type": "code",
   "execution_count": 25,
   "metadata": {},
   "outputs": [
    {
     "name": "stdout",
     "output_type": "stream",
     "text": [
      "5\n",
      "4\n",
      "3\n",
      "2\n",
      "1\n"
     ]
    }
   ],
   "source": [
    "for i in range(5, 0, -1):\n",
    "    print(i)"
   ]
  },
  {
   "cell_type": "code",
   "execution_count": null,
   "metadata": {},
   "outputs": [],
   "source": []
  }
 ],
 "metadata": {
  "kernelspec": {
   "display_name": "Python 3",
   "language": "python",
   "name": "python3"
  },
  "language_info": {
   "codemirror_mode": {
    "name": "ipython",
    "version": 3
   },
   "file_extension": ".py",
   "mimetype": "text/x-python",
   "name": "python",
   "nbconvert_exporter": "python",
   "pygments_lexer": "ipython3",
   "version": "3.6.6rc1"
  }
 },
 "nbformat": 4,
 "nbformat_minor": 2
}
